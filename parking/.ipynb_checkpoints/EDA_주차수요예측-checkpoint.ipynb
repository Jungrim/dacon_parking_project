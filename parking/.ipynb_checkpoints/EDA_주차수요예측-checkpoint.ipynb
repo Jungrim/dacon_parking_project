{
 "cells": [
  {
   "cell_type": "code",
   "execution_count": 1,
   "id": "c1ad1621",
   "metadata": {},
   "outputs": [],
   "source": [
    "import pandas as pd\n",
    "import numpy as np\n",
    "import matplotlib.pyplot as plt\n",
    "import seaborn as sns\n",
    "\n",
    "from matplotlib import font_manager, rc\n",
    "font_path = \"C:/Windows/Fonts/NGULIM.TTF\"\n",
    "font = font_manager.FontProperties(fname=font_path).get_name()\n",
    "rc('font', family=font)\n",
    "\n",
    "import warnings\n",
    "warnings.filterwarnings(\"ignore\")"
   ]
  },
  {
   "cell_type": "markdown",
   "id": "11e8d4f1",
   "metadata": {},
   "source": [
    "### 데이터 불러오기"
   ]
  },
  {
   "cell_type": "code",
   "execution_count": 2,
   "id": "f8f4c9a9",
   "metadata": {},
   "outputs": [],
   "source": [
    "train_df = pd.read_csv('train.csv')\n",
    "age_gender_df = pd.read_csv('age_gender_info.csv')\n",
    "test_df = pd.read_csv('test.csv')"
   ]
  },
  {
   "cell_type": "code",
   "execution_count": 3,
   "id": "0db76695",
   "metadata": {},
   "outputs": [
    {
     "data": {
      "text/plain": [
       "((2952, 15), (16, 23), (1022, 14))"
      ]
     },
     "execution_count": 3,
     "metadata": {},
     "output_type": "execute_result"
    }
   ],
   "source": [
    "train_df.shape, age_gender_df.shape, test_df.shape"
   ]
  },
  {
   "cell_type": "markdown",
   "id": "0d8132b5",
   "metadata": {},
   "source": [
    "### 데이터 결측치 column 확인"
   ]
  },
  {
   "cell_type": "code",
   "execution_count": 4,
   "id": "df06a442",
   "metadata": {},
   "outputs": [
    {
     "name": "stdout",
     "output_type": "stream",
     "text": [
      "<class 'pandas.core.frame.DataFrame'>\n",
      "RangeIndex: 2952 entries, 0 to 2951\n",
      "Data columns (total 15 columns):\n",
      " #   Column                        Non-Null Count  Dtype  \n",
      "---  ------                        --------------  -----  \n",
      " 0   단지코드                          2952 non-null   object \n",
      " 1   총세대수                          2952 non-null   int64  \n",
      " 2   임대건물구분                        2952 non-null   object \n",
      " 3   지역                            2952 non-null   object \n",
      " 4   공급유형                          2952 non-null   object \n",
      " 5   전용면적                          2952 non-null   float64\n",
      " 6   전용면적별세대수                      2952 non-null   int64  \n",
      " 7   공가수                           2952 non-null   float64\n",
      " 8   자격유형                          2952 non-null   object \n",
      " 9   임대보증금                         2383 non-null   object \n",
      " 10  임대료                           2383 non-null   object \n",
      " 11  도보 10분거리 내 지하철역 수(환승노선 수 반영)  2741 non-null   float64\n",
      " 12  도보 10분거리 내 버스정류장 수            2948 non-null   float64\n",
      " 13  단지내주차면수                       2952 non-null   float64\n",
      " 14  등록차량수                         2952 non-null   float64\n",
      "dtypes: float64(6), int64(2), object(7)\n",
      "memory usage: 346.1+ KB\n"
     ]
    }
   ],
   "source": [
    "train_df.info()"
   ]
  },
  {
   "cell_type": "markdown",
   "id": "b10340ce",
   "metadata": {},
   "source": [
    "- train 데이터 결측치 : 임대보증금, 임대료, 도보 10분거리 내 지하철역 수(환승노선 수 반영), 도보 10분거리내 버스정류장 수"
   ]
  },
  {
   "cell_type": "code",
   "execution_count": 5,
   "id": "9e5d5c42",
   "metadata": {},
   "outputs": [
    {
     "name": "stdout",
     "output_type": "stream",
     "text": [
      "<class 'pandas.core.frame.DataFrame'>\n",
      "RangeIndex: 1022 entries, 0 to 1021\n",
      "Data columns (total 14 columns):\n",
      " #   Column                        Non-Null Count  Dtype  \n",
      "---  ------                        --------------  -----  \n",
      " 0   단지코드                          1022 non-null   object \n",
      " 1   총세대수                          1022 non-null   int64  \n",
      " 2   임대건물구분                        1022 non-null   object \n",
      " 3   지역                            1022 non-null   object \n",
      " 4   공급유형                          1022 non-null   object \n",
      " 5   전용면적                          1022 non-null   float64\n",
      " 6   전용면적별세대수                      1022 non-null   int64  \n",
      " 7   공가수                           1022 non-null   float64\n",
      " 8   자격유형                          1020 non-null   object \n",
      " 9   임대보증금                         842 non-null    object \n",
      " 10  임대료                           842 non-null    object \n",
      " 11  도보 10분거리 내 지하철역 수(환승노선 수 반영)  980 non-null    float64\n",
      " 12  도보 10분거리 내 버스정류장 수            1022 non-null   float64\n",
      " 13  단지내주차면수                       1022 non-null   float64\n",
      "dtypes: float64(5), int64(2), object(7)\n",
      "memory usage: 111.9+ KB\n"
     ]
    }
   ],
   "source": [
    "test_df.info()"
   ]
  },
  {
   "cell_type": "markdown",
   "id": "c7b2788f",
   "metadata": {},
   "source": [
    "- test 데이터 결측치 : 자격유형, 임대보증금, 임대료, 도보 10분거리 내 지하철역 수(환승노선 수 반영)"
   ]
  },
  {
   "cell_type": "markdown",
   "id": "12d7c8b5",
   "metadata": {},
   "source": [
    "### 데이터 중복 확인"
   ]
  },
  {
   "cell_type": "code",
   "execution_count": 6,
   "id": "53d14c4c",
   "metadata": {},
   "outputs": [
    {
     "data": {
      "text/plain": [
       "((2952, 15), (2632, 15))"
      ]
     },
     "execution_count": 6,
     "metadata": {},
     "output_type": "execute_result"
    }
   ],
   "source": [
    "train_df.shape, train_df.drop_duplicates().shape\n",
    "# 중복이 존재함"
   ]
  },
  {
   "cell_type": "code",
   "execution_count": 7,
   "id": "045cf86b",
   "metadata": {},
   "outputs": [
    {
     "data": {
      "text/plain": [
       "((1022, 14), (949, 14))"
      ]
     },
     "execution_count": 7,
     "metadata": {},
     "output_type": "execute_result"
    }
   ],
   "source": [
    "test_df.shape, test_df.drop_duplicates().shape\n",
    "# 중복이 존재함"
   ]
  },
  {
   "cell_type": "markdown",
   "id": "e3116aac",
   "metadata": {},
   "source": [
    "**중복데이터는 제거하고 분석을 진행**"
   ]
  },
  {
   "cell_type": "code",
   "execution_count": 8,
   "id": "d4598f1f",
   "metadata": {},
   "outputs": [],
   "source": [
    "train_df = train_df.drop_duplicates()\n",
    "test_df = test_df.drop_duplicates()"
   ]
  },
  {
   "cell_type": "markdown",
   "id": "7a59922c",
   "metadata": {},
   "source": [
    "### 데이터 타입 변환\n",
    "- 임대보증금, 임대료 컬럼은 object -> 실수형으로 변경필요."
   ]
  },
  {
   "cell_type": "code",
   "execution_count": 9,
   "id": "13556b55",
   "metadata": {},
   "outputs": [
    {
     "name": "stdout",
     "output_type": "stream",
     "text": [
      "{'', 'nan', '-'}\n",
      "{'', 'nan', '-'}\n"
     ]
    }
   ],
   "source": [
    "\n",
    "# train_df['임대보증금'] = train_df['임대보증금'].astype(float)\n",
    "\n",
    "# ValueError: could not convert string to float: '-'\n",
    "# 데이터 중에 숫자, NaN 말고 \"-\" 기호가 들어 있음. 형변환을 위해 변경 필요.\n",
    "\n",
    "import re # 정규표현식\n",
    "arr = []\n",
    "arr2 = []\n",
    "for i,j in train_df[['임대보증금','임대료']].values:\n",
    "    arr.append(re.sub(r\"[0-9]\",\"\",str(i)))\n",
    "    arr2.append(re.sub(r\"[0-9]\",\"\",str(j)))\n",
    "print(set(arr))\n",
    "print(set(arr2))"
   ]
  },
  {
   "cell_type": "code",
   "execution_count": 10,
   "id": "553f41bf",
   "metadata": {},
   "outputs": [],
   "source": [
    "train_df.loc[train_df['임대보증금'] == '-','임대보증금'] = np.nan\n",
    "train_df.loc[train_df['임대료'] == '-','임대료'] = np.nan\n",
    "\n",
    "train_df['임대보증금'] = train_df['임대보증금'].astype(float)\n",
    "train_df['임대료'] = train_df['임대료'].astype(float)"
   ]
  },
  {
   "cell_type": "markdown",
   "id": "1fc4c10e",
   "metadata": {},
   "source": [
    "### 결측치\n",
    "- train : 임대보증금, 임대료, 도보 10분거리 내 지하철역 수(환승노선 수 반영), 도보 10분거리내 버스정류장 수\n",
    "- test : 자격유형, 임대보증금, 임대료, 도보 10분거리 내 지하철역 수(환승노선 수 반영)\n",
    "\n",
    "- 임대보증금, 임대료, 도보 10분거리 내 지하철역 수(환승노선 수 반영), 도보 10분거리내 버스정류장 수\n",
    "    - 숫자형 데이터\n",
    "    - 분석을 위해 0으로 전부 설정하고 모델링 \n",
    "    - 모델 평가시, 더 점수가 높게 나오는 것을 찾아가며 수정 예정\n",
    "\n",
    "- 자격유형\n",
    "    - 범주형 데이터\n",
    "    - 결측치가 2개 뿐이므로, 확인 후 채우고 시작"
   ]
  },
  {
   "cell_type": "code",
   "execution_count": 11,
   "id": "1ca5e879",
   "metadata": {},
   "outputs": [],
   "source": [
    "cols = ['임대보증금', '임대료','도보 10분거리 내 지하철역 수(환승노선 수 반영)','도보 10분거리 내 버스정류장 수']\n",
    "\n",
    "train_df[cols] = train_df[cols].fillna(0)\n",
    "test_df[cols] = test_df[cols].fillna(0)"
   ]
  },
  {
   "cell_type": "code",
   "execution_count": 12,
   "id": "39d19ec9",
   "metadata": {},
   "outputs": [
    {
     "data": {
      "text/plain": [
       "0"
      ]
     },
     "execution_count": 12,
     "metadata": {},
     "output_type": "execute_result"
    }
   ],
   "source": [
    "train_df.isnull().sum().sum() # train data 에는 결측치 X"
   ]
  },
  {
   "cell_type": "code",
   "execution_count": 13,
   "id": "ce20c10f",
   "metadata": {},
   "outputs": [
    {
     "data": {
      "text/plain": [
       "2"
      ]
     },
     "execution_count": 13,
     "metadata": {},
     "output_type": "execute_result"
    }
   ],
   "source": [
    "test_df.isnull().sum().sum() # test 데이터 셋에만 있는 자격유형 결측치 2개 남음."
   ]
  },
  {
   "cell_type": "code",
   "execution_count": 14,
   "id": "a29f0948",
   "metadata": {},
   "outputs": [
    {
     "data": {
      "text/html": [
       "<div>\n",
       "<style scoped>\n",
       "    .dataframe tbody tr th:only-of-type {\n",
       "        vertical-align: middle;\n",
       "    }\n",
       "\n",
       "    .dataframe tbody tr th {\n",
       "        vertical-align: top;\n",
       "    }\n",
       "\n",
       "    .dataframe thead th {\n",
       "        text-align: right;\n",
       "    }\n",
       "</style>\n",
       "<table border=\"1\" class=\"dataframe\">\n",
       "  <thead>\n",
       "    <tr style=\"text-align: right;\">\n",
       "      <th></th>\n",
       "      <th>단지코드</th>\n",
       "      <th>총세대수</th>\n",
       "      <th>임대건물구분</th>\n",
       "      <th>지역</th>\n",
       "      <th>공급유형</th>\n",
       "      <th>전용면적</th>\n",
       "      <th>전용면적별세대수</th>\n",
       "      <th>공가수</th>\n",
       "      <th>자격유형</th>\n",
       "      <th>임대보증금</th>\n",
       "      <th>임대료</th>\n",
       "      <th>도보 10분거리 내 지하철역 수(환승노선 수 반영)</th>\n",
       "      <th>도보 10분거리 내 버스정류장 수</th>\n",
       "      <th>단지내주차면수</th>\n",
       "    </tr>\n",
       "  </thead>\n",
       "  <tbody>\n",
       "    <tr>\n",
       "      <th>196</th>\n",
       "      <td>C2411</td>\n",
       "      <td>962</td>\n",
       "      <td>아파트</td>\n",
       "      <td>경상남도</td>\n",
       "      <td>국민임대</td>\n",
       "      <td>46.90</td>\n",
       "      <td>240</td>\n",
       "      <td>25.0</td>\n",
       "      <td>NaN</td>\n",
       "      <td>71950000</td>\n",
       "      <td>37470</td>\n",
       "      <td>0.0</td>\n",
       "      <td>2.0</td>\n",
       "      <td>840.0</td>\n",
       "    </tr>\n",
       "    <tr>\n",
       "      <th>258</th>\n",
       "      <td>C2253</td>\n",
       "      <td>1161</td>\n",
       "      <td>아파트</td>\n",
       "      <td>강원도</td>\n",
       "      <td>영구임대</td>\n",
       "      <td>26.37</td>\n",
       "      <td>745</td>\n",
       "      <td>0.0</td>\n",
       "      <td>NaN</td>\n",
       "      <td>2249000</td>\n",
       "      <td>44770</td>\n",
       "      <td>0.0</td>\n",
       "      <td>2.0</td>\n",
       "      <td>173.0</td>\n",
       "    </tr>\n",
       "  </tbody>\n",
       "</table>\n",
       "</div>"
      ],
      "text/plain": [
       "      단지코드  총세대수 임대건물구분    지역  공급유형   전용면적  전용면적별세대수   공가수 자격유형     임대보증금  \\\n",
       "196  C2411   962    아파트  경상남도  국민임대  46.90       240  25.0  NaN  71950000   \n",
       "258  C2253  1161    아파트   강원도  영구임대  26.37       745   0.0  NaN   2249000   \n",
       "\n",
       "       임대료  도보 10분거리 내 지하철역 수(환승노선 수 반영)  도보 10분거리 내 버스정류장 수  단지내주차면수  \n",
       "196  37470                           0.0                 2.0    840.0  \n",
       "258  44770                           0.0                 2.0    173.0  "
      ]
     },
     "execution_count": 14,
     "metadata": {},
     "output_type": "execute_result"
    }
   ],
   "source": [
    "test_df[test_df['자격유형'].isnull()]"
   ]
  },
  {
   "cell_type": "code",
   "execution_count": 15,
   "id": "44f516cc",
   "metadata": {},
   "outputs": [
    {
     "data": {
      "text/html": [
       "<div>\n",
       "<style scoped>\n",
       "    .dataframe tbody tr th:only-of-type {\n",
       "        vertical-align: middle;\n",
       "    }\n",
       "\n",
       "    .dataframe tbody tr th {\n",
       "        vertical-align: top;\n",
       "    }\n",
       "\n",
       "    .dataframe thead th {\n",
       "        text-align: right;\n",
       "    }\n",
       "</style>\n",
       "<table border=\"1\" class=\"dataframe\">\n",
       "  <thead>\n",
       "    <tr style=\"text-align: right;\">\n",
       "      <th></th>\n",
       "      <th>단지코드</th>\n",
       "      <th>총세대수</th>\n",
       "      <th>임대건물구분</th>\n",
       "      <th>지역</th>\n",
       "      <th>공급유형</th>\n",
       "      <th>전용면적</th>\n",
       "      <th>전용면적별세대수</th>\n",
       "      <th>공가수</th>\n",
       "      <th>자격유형</th>\n",
       "      <th>임대보증금</th>\n",
       "      <th>임대료</th>\n",
       "      <th>도보 10분거리 내 지하철역 수(환승노선 수 반영)</th>\n",
       "      <th>도보 10분거리 내 버스정류장 수</th>\n",
       "      <th>단지내주차면수</th>\n",
       "    </tr>\n",
       "  </thead>\n",
       "  <tbody>\n",
       "    <tr>\n",
       "      <th>193</th>\n",
       "      <td>C2411</td>\n",
       "      <td>962</td>\n",
       "      <td>아파트</td>\n",
       "      <td>경상남도</td>\n",
       "      <td>국민임대</td>\n",
       "      <td>39.43</td>\n",
       "      <td>56</td>\n",
       "      <td>25.0</td>\n",
       "      <td>A</td>\n",
       "      <td>11992000</td>\n",
       "      <td>100720</td>\n",
       "      <td>0.0</td>\n",
       "      <td>2.0</td>\n",
       "      <td>840.0</td>\n",
       "    </tr>\n",
       "    <tr>\n",
       "      <th>194</th>\n",
       "      <td>C2411</td>\n",
       "      <td>962</td>\n",
       "      <td>아파트</td>\n",
       "      <td>경상남도</td>\n",
       "      <td>국민임대</td>\n",
       "      <td>39.72</td>\n",
       "      <td>336</td>\n",
       "      <td>25.0</td>\n",
       "      <td>A</td>\n",
       "      <td>11992000</td>\n",
       "      <td>100720</td>\n",
       "      <td>0.0</td>\n",
       "      <td>2.0</td>\n",
       "      <td>840.0</td>\n",
       "    </tr>\n",
       "    <tr>\n",
       "      <th>195</th>\n",
       "      <td>C2411</td>\n",
       "      <td>962</td>\n",
       "      <td>아파트</td>\n",
       "      <td>경상남도</td>\n",
       "      <td>국민임대</td>\n",
       "      <td>39.82</td>\n",
       "      <td>179</td>\n",
       "      <td>25.0</td>\n",
       "      <td>A</td>\n",
       "      <td>11992000</td>\n",
       "      <td>100720</td>\n",
       "      <td>0.0</td>\n",
       "      <td>2.0</td>\n",
       "      <td>840.0</td>\n",
       "    </tr>\n",
       "    <tr>\n",
       "      <th>196</th>\n",
       "      <td>C2411</td>\n",
       "      <td>962</td>\n",
       "      <td>아파트</td>\n",
       "      <td>경상남도</td>\n",
       "      <td>국민임대</td>\n",
       "      <td>46.90</td>\n",
       "      <td>240</td>\n",
       "      <td>25.0</td>\n",
       "      <td>NaN</td>\n",
       "      <td>71950000</td>\n",
       "      <td>37470</td>\n",
       "      <td>0.0</td>\n",
       "      <td>2.0</td>\n",
       "      <td>840.0</td>\n",
       "    </tr>\n",
       "    <tr>\n",
       "      <th>197</th>\n",
       "      <td>C2411</td>\n",
       "      <td>962</td>\n",
       "      <td>아파트</td>\n",
       "      <td>경상남도</td>\n",
       "      <td>국민임대</td>\n",
       "      <td>51.93</td>\n",
       "      <td>150</td>\n",
       "      <td>25.0</td>\n",
       "      <td>A</td>\n",
       "      <td>21586000</td>\n",
       "      <td>171480</td>\n",
       "      <td>0.0</td>\n",
       "      <td>2.0</td>\n",
       "      <td>840.0</td>\n",
       "    </tr>\n",
       "  </tbody>\n",
       "</table>\n",
       "</div>"
      ],
      "text/plain": [
       "      단지코드  총세대수 임대건물구분    지역  공급유형   전용면적  전용면적별세대수   공가수 자격유형     임대보증금  \\\n",
       "193  C2411   962    아파트  경상남도  국민임대  39.43        56  25.0    A  11992000   \n",
       "194  C2411   962    아파트  경상남도  국민임대  39.72       336  25.0    A  11992000   \n",
       "195  C2411   962    아파트  경상남도  국민임대  39.82       179  25.0    A  11992000   \n",
       "196  C2411   962    아파트  경상남도  국민임대  46.90       240  25.0  NaN  71950000   \n",
       "197  C2411   962    아파트  경상남도  국민임대  51.93       150  25.0    A  21586000   \n",
       "\n",
       "        임대료  도보 10분거리 내 지하철역 수(환승노선 수 반영)  도보 10분거리 내 버스정류장 수  단지내주차면수  \n",
       "193  100720                           0.0                 2.0    840.0  \n",
       "194  100720                           0.0                 2.0    840.0  \n",
       "195  100720                           0.0                 2.0    840.0  \n",
       "196   37470                           0.0                 2.0    840.0  \n",
       "197  171480                           0.0                 2.0    840.0  "
      ]
     },
     "execution_count": 15,
     "metadata": {},
     "output_type": "execute_result"
    }
   ],
   "source": [
    "test_df[test_df['단지코드'] == 'C2411'] # 같은 단지 확인"
   ]
  },
  {
   "cell_type": "code",
   "execution_count": 16,
   "id": "d3bb8f07",
   "metadata": {},
   "outputs": [],
   "source": [
    "test_df[ (test_df['단지코드']=='C2411') & (test_df['자격유형'].isnull())] = 'A'"
   ]
  },
  {
   "cell_type": "code",
   "execution_count": 17,
   "id": "a32619b4",
   "metadata": {},
   "outputs": [
    {
     "data": {
      "text/html": [
       "<div>\n",
       "<style scoped>\n",
       "    .dataframe tbody tr th:only-of-type {\n",
       "        vertical-align: middle;\n",
       "    }\n",
       "\n",
       "    .dataframe tbody tr th {\n",
       "        vertical-align: top;\n",
       "    }\n",
       "\n",
       "    .dataframe thead th {\n",
       "        text-align: right;\n",
       "    }\n",
       "</style>\n",
       "<table border=\"1\" class=\"dataframe\">\n",
       "  <thead>\n",
       "    <tr style=\"text-align: right;\">\n",
       "      <th></th>\n",
       "      <th>단지코드</th>\n",
       "      <th>총세대수</th>\n",
       "      <th>임대건물구분</th>\n",
       "      <th>지역</th>\n",
       "      <th>공급유형</th>\n",
       "      <th>전용면적</th>\n",
       "      <th>전용면적별세대수</th>\n",
       "      <th>공가수</th>\n",
       "      <th>자격유형</th>\n",
       "      <th>임대보증금</th>\n",
       "      <th>임대료</th>\n",
       "      <th>도보 10분거리 내 지하철역 수(환승노선 수 반영)</th>\n",
       "      <th>도보 10분거리 내 버스정류장 수</th>\n",
       "      <th>단지내주차면수</th>\n",
       "    </tr>\n",
       "  </thead>\n",
       "  <tbody>\n",
       "    <tr>\n",
       "      <th>258</th>\n",
       "      <td>C2253</td>\n",
       "      <td>1161</td>\n",
       "      <td>아파트</td>\n",
       "      <td>강원도</td>\n",
       "      <td>영구임대</td>\n",
       "      <td>26.37</td>\n",
       "      <td>745</td>\n",
       "      <td>0.0</td>\n",
       "      <td>NaN</td>\n",
       "      <td>2249000</td>\n",
       "      <td>44770</td>\n",
       "      <td>0.0</td>\n",
       "      <td>2.0</td>\n",
       "      <td>173.0</td>\n",
       "    </tr>\n",
       "    <tr>\n",
       "      <th>259</th>\n",
       "      <td>C2253</td>\n",
       "      <td>1161</td>\n",
       "      <td>아파트</td>\n",
       "      <td>강원도</td>\n",
       "      <td>영구임대</td>\n",
       "      <td>31.32</td>\n",
       "      <td>239</td>\n",
       "      <td>0.0</td>\n",
       "      <td>C</td>\n",
       "      <td>3731000</td>\n",
       "      <td>83020</td>\n",
       "      <td>0.0</td>\n",
       "      <td>2.0</td>\n",
       "      <td>173.0</td>\n",
       "    </tr>\n",
       "    <tr>\n",
       "      <th>260</th>\n",
       "      <td>C2253</td>\n",
       "      <td>1161</td>\n",
       "      <td>아파트</td>\n",
       "      <td>강원도</td>\n",
       "      <td>영구임대</td>\n",
       "      <td>31.32</td>\n",
       "      <td>149</td>\n",
       "      <td>0.0</td>\n",
       "      <td>C</td>\n",
       "      <td>3731000</td>\n",
       "      <td>83020</td>\n",
       "      <td>0.0</td>\n",
       "      <td>2.0</td>\n",
       "      <td>173.0</td>\n",
       "    </tr>\n",
       "    <tr>\n",
       "      <th>261</th>\n",
       "      <td>C2253</td>\n",
       "      <td>1161</td>\n",
       "      <td>상가</td>\n",
       "      <td>강원도</td>\n",
       "      <td>임대상가</td>\n",
       "      <td>13.77</td>\n",
       "      <td>1</td>\n",
       "      <td>0.0</td>\n",
       "      <td>D</td>\n",
       "      <td>0</td>\n",
       "      <td>0</td>\n",
       "      <td>0.0</td>\n",
       "      <td>2.0</td>\n",
       "      <td>173.0</td>\n",
       "    </tr>\n",
       "    <tr>\n",
       "      <th>262</th>\n",
       "      <td>C2253</td>\n",
       "      <td>1161</td>\n",
       "      <td>상가</td>\n",
       "      <td>강원도</td>\n",
       "      <td>임대상가</td>\n",
       "      <td>22.89</td>\n",
       "      <td>1</td>\n",
       "      <td>0.0</td>\n",
       "      <td>D</td>\n",
       "      <td>0</td>\n",
       "      <td>0</td>\n",
       "      <td>0.0</td>\n",
       "      <td>2.0</td>\n",
       "      <td>173.0</td>\n",
       "    </tr>\n",
       "    <tr>\n",
       "      <th>263</th>\n",
       "      <td>C2253</td>\n",
       "      <td>1161</td>\n",
       "      <td>상가</td>\n",
       "      <td>강원도</td>\n",
       "      <td>임대상가</td>\n",
       "      <td>22.91</td>\n",
       "      <td>1</td>\n",
       "      <td>0.0</td>\n",
       "      <td>D</td>\n",
       "      <td>0</td>\n",
       "      <td>0</td>\n",
       "      <td>0.0</td>\n",
       "      <td>2.0</td>\n",
       "      <td>173.0</td>\n",
       "    </tr>\n",
       "    <tr>\n",
       "      <th>264</th>\n",
       "      <td>C2253</td>\n",
       "      <td>1161</td>\n",
       "      <td>상가</td>\n",
       "      <td>강원도</td>\n",
       "      <td>임대상가</td>\n",
       "      <td>23.79</td>\n",
       "      <td>1</td>\n",
       "      <td>0.0</td>\n",
       "      <td>D</td>\n",
       "      <td>0</td>\n",
       "      <td>0</td>\n",
       "      <td>0.0</td>\n",
       "      <td>2.0</td>\n",
       "      <td>173.0</td>\n",
       "    </tr>\n",
       "    <tr>\n",
       "      <th>266</th>\n",
       "      <td>C2253</td>\n",
       "      <td>1161</td>\n",
       "      <td>상가</td>\n",
       "      <td>강원도</td>\n",
       "      <td>임대상가</td>\n",
       "      <td>23.86</td>\n",
       "      <td>1</td>\n",
       "      <td>0.0</td>\n",
       "      <td>D</td>\n",
       "      <td>0</td>\n",
       "      <td>0</td>\n",
       "      <td>0.0</td>\n",
       "      <td>2.0</td>\n",
       "      <td>173.0</td>\n",
       "    </tr>\n",
       "    <tr>\n",
       "      <th>268</th>\n",
       "      <td>C2253</td>\n",
       "      <td>1161</td>\n",
       "      <td>상가</td>\n",
       "      <td>강원도</td>\n",
       "      <td>임대상가</td>\n",
       "      <td>24.19</td>\n",
       "      <td>1</td>\n",
       "      <td>0.0</td>\n",
       "      <td>D</td>\n",
       "      <td>0</td>\n",
       "      <td>0</td>\n",
       "      <td>0.0</td>\n",
       "      <td>2.0</td>\n",
       "      <td>173.0</td>\n",
       "    </tr>\n",
       "    <tr>\n",
       "      <th>269</th>\n",
       "      <td>C2253</td>\n",
       "      <td>1161</td>\n",
       "      <td>상가</td>\n",
       "      <td>강원도</td>\n",
       "      <td>임대상가</td>\n",
       "      <td>27.75</td>\n",
       "      <td>1</td>\n",
       "      <td>0.0</td>\n",
       "      <td>D</td>\n",
       "      <td>0</td>\n",
       "      <td>0</td>\n",
       "      <td>0.0</td>\n",
       "      <td>2.0</td>\n",
       "      <td>173.0</td>\n",
       "    </tr>\n",
       "    <tr>\n",
       "      <th>275</th>\n",
       "      <td>C2253</td>\n",
       "      <td>1161</td>\n",
       "      <td>상가</td>\n",
       "      <td>강원도</td>\n",
       "      <td>임대상가</td>\n",
       "      <td>28.19</td>\n",
       "      <td>1</td>\n",
       "      <td>0.0</td>\n",
       "      <td>D</td>\n",
       "      <td>0</td>\n",
       "      <td>0</td>\n",
       "      <td>0.0</td>\n",
       "      <td>2.0</td>\n",
       "      <td>173.0</td>\n",
       "    </tr>\n",
       "    <tr>\n",
       "      <th>276</th>\n",
       "      <td>C2253</td>\n",
       "      <td>1161</td>\n",
       "      <td>상가</td>\n",
       "      <td>강원도</td>\n",
       "      <td>임대상가</td>\n",
       "      <td>28.69</td>\n",
       "      <td>1</td>\n",
       "      <td>0.0</td>\n",
       "      <td>D</td>\n",
       "      <td>0</td>\n",
       "      <td>0</td>\n",
       "      <td>0.0</td>\n",
       "      <td>2.0</td>\n",
       "      <td>173.0</td>\n",
       "    </tr>\n",
       "    <tr>\n",
       "      <th>281</th>\n",
       "      <td>C2253</td>\n",
       "      <td>1161</td>\n",
       "      <td>상가</td>\n",
       "      <td>강원도</td>\n",
       "      <td>임대상가</td>\n",
       "      <td>28.93</td>\n",
       "      <td>1</td>\n",
       "      <td>0.0</td>\n",
       "      <td>D</td>\n",
       "      <td>0</td>\n",
       "      <td>0</td>\n",
       "      <td>0.0</td>\n",
       "      <td>2.0</td>\n",
       "      <td>173.0</td>\n",
       "    </tr>\n",
       "    <tr>\n",
       "      <th>283</th>\n",
       "      <td>C2253</td>\n",
       "      <td>1161</td>\n",
       "      <td>상가</td>\n",
       "      <td>강원도</td>\n",
       "      <td>임대상가</td>\n",
       "      <td>42.35</td>\n",
       "      <td>1</td>\n",
       "      <td>0.0</td>\n",
       "      <td>D</td>\n",
       "      <td>0</td>\n",
       "      <td>0</td>\n",
       "      <td>0.0</td>\n",
       "      <td>2.0</td>\n",
       "      <td>173.0</td>\n",
       "    </tr>\n",
       "    <tr>\n",
       "      <th>284</th>\n",
       "      <td>C2253</td>\n",
       "      <td>1161</td>\n",
       "      <td>상가</td>\n",
       "      <td>강원도</td>\n",
       "      <td>임대상가</td>\n",
       "      <td>42.4</td>\n",
       "      <td>1</td>\n",
       "      <td>0.0</td>\n",
       "      <td>D</td>\n",
       "      <td>0</td>\n",
       "      <td>0</td>\n",
       "      <td>0.0</td>\n",
       "      <td>2.0</td>\n",
       "      <td>173.0</td>\n",
       "    </tr>\n",
       "    <tr>\n",
       "      <th>285</th>\n",
       "      <td>C2253</td>\n",
       "      <td>1161</td>\n",
       "      <td>상가</td>\n",
       "      <td>강원도</td>\n",
       "      <td>임대상가</td>\n",
       "      <td>55.17</td>\n",
       "      <td>1</td>\n",
       "      <td>0.0</td>\n",
       "      <td>D</td>\n",
       "      <td>0</td>\n",
       "      <td>0</td>\n",
       "      <td>0.0</td>\n",
       "      <td>2.0</td>\n",
       "      <td>173.0</td>\n",
       "    </tr>\n",
       "    <tr>\n",
       "      <th>286</th>\n",
       "      <td>C2253</td>\n",
       "      <td>1161</td>\n",
       "      <td>상가</td>\n",
       "      <td>강원도</td>\n",
       "      <td>임대상가</td>\n",
       "      <td>55.5</td>\n",
       "      <td>1</td>\n",
       "      <td>0.0</td>\n",
       "      <td>D</td>\n",
       "      <td>0</td>\n",
       "      <td>0</td>\n",
       "      <td>0.0</td>\n",
       "      <td>2.0</td>\n",
       "      <td>173.0</td>\n",
       "    </tr>\n",
       "    <tr>\n",
       "      <th>287</th>\n",
       "      <td>C2253</td>\n",
       "      <td>1161</td>\n",
       "      <td>상가</td>\n",
       "      <td>강원도</td>\n",
       "      <td>임대상가</td>\n",
       "      <td>82.92</td>\n",
       "      <td>1</td>\n",
       "      <td>0.0</td>\n",
       "      <td>D</td>\n",
       "      <td>0</td>\n",
       "      <td>0</td>\n",
       "      <td>0.0</td>\n",
       "      <td>2.0</td>\n",
       "      <td>173.0</td>\n",
       "    </tr>\n",
       "    <tr>\n",
       "      <th>288</th>\n",
       "      <td>C2253</td>\n",
       "      <td>1161</td>\n",
       "      <td>상가</td>\n",
       "      <td>강원도</td>\n",
       "      <td>임대상가</td>\n",
       "      <td>248.56</td>\n",
       "      <td>1</td>\n",
       "      <td>0.0</td>\n",
       "      <td>D</td>\n",
       "      <td>0</td>\n",
       "      <td>0</td>\n",
       "      <td>0.0</td>\n",
       "      <td>2.0</td>\n",
       "      <td>173.0</td>\n",
       "    </tr>\n",
       "  </tbody>\n",
       "</table>\n",
       "</div>"
      ],
      "text/plain": [
       "      단지코드  총세대수 임대건물구분   지역  공급유형    전용면적 전용면적별세대수  공가수 자격유형    임대보증금    임대료  \\\n",
       "258  C2253  1161    아파트  강원도  영구임대   26.37      745  0.0  NaN  2249000  44770   \n",
       "259  C2253  1161    아파트  강원도  영구임대   31.32      239  0.0    C  3731000  83020   \n",
       "260  C2253  1161    아파트  강원도  영구임대   31.32      149  0.0    C  3731000  83020   \n",
       "261  C2253  1161     상가  강원도  임대상가   13.77        1  0.0    D        0      0   \n",
       "262  C2253  1161     상가  강원도  임대상가   22.89        1  0.0    D        0      0   \n",
       "263  C2253  1161     상가  강원도  임대상가   22.91        1  0.0    D        0      0   \n",
       "264  C2253  1161     상가  강원도  임대상가   23.79        1  0.0    D        0      0   \n",
       "266  C2253  1161     상가  강원도  임대상가   23.86        1  0.0    D        0      0   \n",
       "268  C2253  1161     상가  강원도  임대상가   24.19        1  0.0    D        0      0   \n",
       "269  C2253  1161     상가  강원도  임대상가   27.75        1  0.0    D        0      0   \n",
       "275  C2253  1161     상가  강원도  임대상가   28.19        1  0.0    D        0      0   \n",
       "276  C2253  1161     상가  강원도  임대상가   28.69        1  0.0    D        0      0   \n",
       "281  C2253  1161     상가  강원도  임대상가   28.93        1  0.0    D        0      0   \n",
       "283  C2253  1161     상가  강원도  임대상가   42.35        1  0.0    D        0      0   \n",
       "284  C2253  1161     상가  강원도  임대상가    42.4        1  0.0    D        0      0   \n",
       "285  C2253  1161     상가  강원도  임대상가   55.17        1  0.0    D        0      0   \n",
       "286  C2253  1161     상가  강원도  임대상가    55.5        1  0.0    D        0      0   \n",
       "287  C2253  1161     상가  강원도  임대상가   82.92        1  0.0    D        0      0   \n",
       "288  C2253  1161     상가  강원도  임대상가  248.56        1  0.0    D        0      0   \n",
       "\n",
       "    도보 10분거리 내 지하철역 수(환승노선 수 반영) 도보 10분거리 내 버스정류장 수 단지내주차면수  \n",
       "258                          0.0                2.0   173.0  \n",
       "259                          0.0                2.0   173.0  \n",
       "260                          0.0                2.0   173.0  \n",
       "261                          0.0                2.0   173.0  \n",
       "262                          0.0                2.0   173.0  \n",
       "263                          0.0                2.0   173.0  \n",
       "264                          0.0                2.0   173.0  \n",
       "266                          0.0                2.0   173.0  \n",
       "268                          0.0                2.0   173.0  \n",
       "269                          0.0                2.0   173.0  \n",
       "275                          0.0                2.0   173.0  \n",
       "276                          0.0                2.0   173.0  \n",
       "281                          0.0                2.0   173.0  \n",
       "283                          0.0                2.0   173.0  \n",
       "284                          0.0                2.0   173.0  \n",
       "285                          0.0                2.0   173.0  \n",
       "286                          0.0                2.0   173.0  \n",
       "287                          0.0                2.0   173.0  \n",
       "288                          0.0                2.0   173.0  "
      ]
     },
     "execution_count": 17,
     "metadata": {},
     "output_type": "execute_result"
    }
   ],
   "source": [
    "test_df[test_df['단지코드'] == 'C2253'] # 같은 단지 확인"
   ]
  },
  {
   "cell_type": "code",
   "execution_count": 18,
   "id": "342d3bb0",
   "metadata": {},
   "outputs": [],
   "source": [
    "test_df[ (test_df['단지코드']=='C2253') & (test_df['자격유형'].isnull())] = 'C' # 같은 아파트 유형이 C이므로 C로 결측치 채움."
   ]
  },
  {
   "cell_type": "code",
   "execution_count": 19,
   "id": "ec89a805",
   "metadata": {},
   "outputs": [
    {
     "data": {
      "text/plain": [
       "0"
      ]
     },
     "execution_count": 19,
     "metadata": {},
     "output_type": "execute_result"
    }
   ],
   "source": [
    "test_df['단지코드'].isnull().sum() # 결측치 모두 채움."
   ]
  },
  {
   "cell_type": "markdown",
   "id": "0a30d592",
   "metadata": {},
   "source": [
    "### 피처 탐색\n",
    "- 도메인 정의서 내용 채울 수 있도록 간단히 정의 내림"
   ]
  },
  {
   "cell_type": "markdown",
   "id": "c66765cf",
   "metadata": {},
   "source": [
    "(1) 단지코드 - 아파트의 단지의 코드를 표기하는 문자열"
   ]
  },
  {
   "cell_type": "code",
   "execution_count": 20,
   "id": "66a832e6",
   "metadata": {},
   "outputs": [
    {
     "data": {
      "text/plain": [
       "count      2632\n",
       "unique      423\n",
       "top       C2132\n",
       "freq         31\n",
       "Name: 단지코드, dtype: object"
      ]
     },
     "execution_count": 20,
     "metadata": {},
     "output_type": "execute_result"
    }
   ],
   "source": [
    "train_df['단지코드'].describe() # 총 423 단지"
   ]
  },
  {
   "cell_type": "code",
   "execution_count": 21,
   "id": "26ba7ea6",
   "metadata": {},
   "outputs": [
    {
     "data": {
      "text/plain": [
       "C2132    31\n",
       "C2051    23\n",
       "C1790    19\n",
       "C1439    19\n",
       "C2507    18\n",
       "         ..\n",
       "C1672     2\n",
       "C2340     1\n",
       "C2188     1\n",
       "C2437     1\n",
       "C2520     1\n",
       "Name: 단지코드, Length: 423, dtype: int64"
      ]
     },
     "execution_count": 21,
     "metadata": {},
     "output_type": "execute_result"
    }
   ],
   "source": [
    "train_df['단지코드'].value_counts()"
   ]
  },
  {
   "cell_type": "code",
   "execution_count": 22,
   "id": "effa342a",
   "metadata": {},
   "outputs": [
    {
     "data": {
      "text/plain": [
       "<AxesSubplot:>"
      ]
     },
     "execution_count": 22,
     "metadata": {},
     "output_type": "execute_result"
    },
    {
     "data": {
      "image/png": "[encoded data removed]",
      "text/plain": [
       "<Figure size 432x288 with 1 Axes>"
      ]
     },
     "metadata": {
      "needs_background": "light"
     },
     "output_type": "display_data"
    }
   ],
   "source": [
    "train_df['단지코드'].value_counts().hist() # 대부분 아파트 단지가 1~10 개 사이임.\n",
    "# 단지수가 크면 등록주차대수도 올라갈 것으로 예상되고, 일단은 제거할 필요 없어 보임."
   ]
  },
  {
   "cell_type": "markdown",
   "id": "122d2e4e",
   "metadata": {},
   "source": [
    "(2) 총 세대수 : 아파트 단지에 살고 있는 세대의 총 인원수"
   ]
  },
  {
   "cell_type": "code",
   "execution_count": 23,
   "id": "f76d8a6f",
   "metadata": {},
   "outputs": [
    {
     "data": {
      "text/plain": [
       "count    2632.000000\n",
       "mean      854.095365\n",
       "std       484.047918\n",
       "min        26.000000\n",
       "25%       504.000000\n",
       "50%       773.000000\n",
       "75%      1065.000000\n",
       "max      2568.000000\n",
       "Name: 총세대수, dtype: float64"
      ]
     },
     "execution_count": 23,
     "metadata": {},
     "output_type": "execute_result"
    }
   ],
   "source": [
    "train_df['총세대수'].describe() # 총세대수의 경우 26~2568 까지 다양하게 존재함. 표준편차가 높은건가? 글로 봐서는 모르겠네."
   ]
  },
  {
   "cell_type": "code",
   "execution_count": 24,
   "id": "fa80e586",
   "metadata": {},
   "outputs": [
    {
     "data": {
      "text/html": [
       "<div>\n",
       "<style scoped>\n",
       "    .dataframe tbody tr th:only-of-type {\n",
       "        vertical-align: middle;\n",
       "    }\n",
       "\n",
       "    .dataframe tbody tr th {\n",
       "        vertical-align: top;\n",
       "    }\n",
       "\n",
       "    .dataframe thead th {\n",
       "        text-align: right;\n",
       "    }\n",
       "</style>\n",
       "<table border=\"1\" class=\"dataframe\">\n",
       "  <thead>\n",
       "    <tr style=\"text-align: right;\">\n",
       "      <th></th>\n",
       "      <th>단지코드</th>\n",
       "      <th>총세대수</th>\n",
       "    </tr>\n",
       "  </thead>\n",
       "  <tbody>\n",
       "    <tr>\n",
       "      <th>0</th>\n",
       "      <td>C2483</td>\n",
       "      <td>900</td>\n",
       "    </tr>\n",
       "    <tr>\n",
       "      <th>1</th>\n",
       "      <td>C2483</td>\n",
       "      <td>900</td>\n",
       "    </tr>\n",
       "    <tr>\n",
       "      <th>2</th>\n",
       "      <td>C2483</td>\n",
       "      <td>900</td>\n",
       "    </tr>\n",
       "    <tr>\n",
       "      <th>3</th>\n",
       "      <td>C2483</td>\n",
       "      <td>900</td>\n",
       "    </tr>\n",
       "    <tr>\n",
       "      <th>4</th>\n",
       "      <td>C2483</td>\n",
       "      <td>900</td>\n",
       "    </tr>\n",
       "    <tr>\n",
       "      <th>...</th>\n",
       "      <td>...</td>\n",
       "      <td>...</td>\n",
       "    </tr>\n",
       "    <tr>\n",
       "      <th>2947</th>\n",
       "      <td>C2532</td>\n",
       "      <td>239</td>\n",
       "    </tr>\n",
       "    <tr>\n",
       "      <th>2948</th>\n",
       "      <td>C2532</td>\n",
       "      <td>239</td>\n",
       "    </tr>\n",
       "    <tr>\n",
       "      <th>2949</th>\n",
       "      <td>C2532</td>\n",
       "      <td>239</td>\n",
       "    </tr>\n",
       "    <tr>\n",
       "      <th>2950</th>\n",
       "      <td>C2532</td>\n",
       "      <td>239</td>\n",
       "    </tr>\n",
       "    <tr>\n",
       "      <th>2951</th>\n",
       "      <td>C2532</td>\n",
       "      <td>239</td>\n",
       "    </tr>\n",
       "  </tbody>\n",
       "</table>\n",
       "<p>2632 rows × 2 columns</p>\n",
       "</div>"
      ],
      "text/plain": [
       "       단지코드  총세대수\n",
       "0     C2483   900\n",
       "1     C2483   900\n",
       "2     C2483   900\n",
       "3     C2483   900\n",
       "4     C2483   900\n",
       "...     ...   ...\n",
       "2947  C2532   239\n",
       "2948  C2532   239\n",
       "2949  C2532   239\n",
       "2950  C2532   239\n",
       "2951  C2532   239\n",
       "\n",
       "[2632 rows x 2 columns]"
      ]
     },
     "execution_count": 24,
     "metadata": {},
     "output_type": "execute_result"
    }
   ],
   "source": [
    "train_df[['단지코드','총세대수']] # 단지코드별 총세대수가 동일 -> 각 단지의 총 세대수를 말하는 것임!"
   ]
  },
  {
   "cell_type": "code",
   "execution_count": 25,
   "id": "cc5ba16d",
   "metadata": {},
   "outputs": [
    {
     "data": {
      "text/plain": [
       "<BarContainer object of 423 artists>"
      ]
     },
     "execution_count": 25,
     "metadata": {},
     "output_type": "execute_result"
    },
    {
     "data": {
      "image/png": "[encoded data removed]",
      "text/plain": [
       "<Figure size 1080x432 with 1 Axes>"
      ]
     },
     "metadata": {
      "needs_background": "light"
     },
     "output_type": "display_data"
    }
   ],
   "source": [
    "drop_t = train_df[['단지코드','총세대수']].drop_duplicates() # 중복되는거 빼고 확인\n",
    "plt.figure(figsize=(15,6))\n",
    "plt.xticks([])\n",
    "plt.bar(drop_t['단지코드'],drop_t['총세대수'])  # 단지별로 총 세대수 적고 많음이 다양함."
   ]
  },
  {
   "cell_type": "markdown",
   "id": "cb4951f8",
   "metadata": {},
   "source": [
    "(3) 임대건물구분 : 건물을 용도에 따라 상가/아파트로 구분\n",
    "- 아파트와 상가는 목적이 다른 건물이므로, 분석시 따로 나눠서 분석해볼 필요 있음."
   ]
  },
  {
   "cell_type": "code",
   "execution_count": 26,
   "id": "0f684829",
   "metadata": {},
   "outputs": [
    {
     "data": {
      "text/plain": [
       "count     2632\n",
       "unique       2\n",
       "top        아파트\n",
       "freq      2347\n",
       "Name: 임대건물구분, dtype: object"
      ]
     },
     "execution_count": 26,
     "metadata": {},
     "output_type": "execute_result"
    }
   ],
   "source": [
    "train_df['임대건물구분'].describe()"
   ]
  },
  {
   "cell_type": "code",
   "execution_count": 27,
   "id": "28a625fa",
   "metadata": {},
   "outputs": [
    {
     "data": {
      "text/plain": [
       "아파트    2347\n",
       "상가      285\n",
       "Name: 임대건물구분, dtype: int64"
      ]
     },
     "execution_count": 27,
     "metadata": {},
     "output_type": "execute_result"
    }
   ],
   "source": [
    "train_df['임대건물구분'].value_counts() "
   ]
  },
  {
   "cell_type": "code",
   "execution_count": 28,
   "id": "772d52c6",
   "metadata": {},
   "outputs": [
    {
     "data": {
      "text/plain": [
       "<BarContainer object of 2 artists>"
      ]
     },
     "execution_count": 28,
     "metadata": {},
     "output_type": "execute_result"
    },
    {
     "data": {
      "image/png": "[encoded data removed]",
      "text/plain": [
       "<Figure size 432x288 with 1 Axes>"
      ]
     },
     "metadata": {
      "needs_background": "light"
     },
     "output_type": "display_data"
    }
   ],
   "source": [
    "plt.bar(['아파트','상가'], train_df['임대건물구분'].value_counts()) #  아파트가 상가보다 훨씬 많은 데이터를 차지 하고 있음."
   ]
  },
  {
   "cell_type": "markdown",
   "id": "f64a2f1c",
   "metadata": {},
   "source": [
    "(4) 지역 : 단지가 분류된 위치로 16개로 구분됨."
   ]
  },
  {
   "cell_type": "code",
   "execution_count": 29,
   "id": "cedd735f",
   "metadata": {},
   "outputs": [
    {
     "data": {
      "text/plain": [
       "count     2632\n",
       "unique      16\n",
       "top        경기도\n",
       "freq       609\n",
       "Name: 지역, dtype: object"
      ]
     },
     "execution_count": 29,
     "metadata": {},
     "output_type": "execute_result"
    }
   ],
   "source": [
    "train_df['지역'].describe() # 16개 지역"
   ]
  },
  {
   "cell_type": "code",
   "execution_count": 30,
   "id": "29f4bbfd",
   "metadata": {},
   "outputs": [
    {
     "data": {
      "text/plain": [
       "array(['경상북도', '경상남도', '대전광역시', '경기도', '전라북도', '강원도', '광주광역시', '충청남도',\n",
       "       '부산광역시', '제주특별자치도', '울산광역시', '충청북도', '전라남도', '대구광역시', '서울특별시',\n",
       "       '세종특별자치시'], dtype=object)"
      ]
     },
     "execution_count": 30,
     "metadata": {},
     "output_type": "execute_result"
    }
   ],
   "source": [
    "train_df['지역'].unique() # 인천이 없네!"
   ]
  },
  {
   "cell_type": "code",
   "execution_count": 31,
   "id": "c27f8dd8",
   "metadata": {},
   "outputs": [],
   "source": [
    "# 단순히 지역단지 갯수가 아니고, 지역별 총세대수에 따라서 시각화\n",
    "re_cnt = train_df.groupby(['지역']).sum()['총세대수'].sort_values(ascending=False) # 지역별로 몇명있나!"
   ]
  },
  {
   "cell_type": "code",
   "execution_count": 32,
   "id": "7cb75539",
   "metadata": {},
   "outputs": [
    {
     "data": {
      "text/plain": [
       "<BarContainer object of 16 artists>"
      ]
     },
     "execution_count": 32,
     "metadata": {},
     "output_type": "execute_result"
    },
    {
     "data": {
      "image/png": "[encoded data removed]",
      "text/plain": [
       "<Figure size 1152x288 with 1 Axes>"
      ]
     },
     "metadata": {
      "needs_background": "light"
     },
     "output_type": "display_data"
    }
   ],
   "source": [
    "plt.figure(figsize=(16,4))\n",
    "plt.bar(re_cnt.index, re_cnt.values)\n",
    "\n",
    "# 세종은 총세대수가 낮은편임. 그럼에도 등록주차대수가 매우 많은것을 뒤에서 확인 가능\n",
    "# 총세대수가 높다고 무조건 등록주차대수가 많은 것은 아니며,\n",
    "# 다른 요인이 크게 작용할 것으로 예상됨."
   ]
  },
  {
   "cell_type": "markdown",
   "id": "efa5bfb3",
   "metadata": {},
   "source": [
    "(5) 공급유형 : 임대기간, 규모, 소득 등에 따라 구분해놓은 주택 유형"
   ]
  },
  {
   "cell_type": "code",
   "execution_count": 33,
   "id": "564889b0",
   "metadata": {},
   "outputs": [
    {
     "data": {
      "text/plain": [
       "count     2632\n",
       "unique      10\n",
       "top       국민임대\n",
       "freq      1730\n",
       "Name: 공급유형, dtype: object"
      ]
     },
     "execution_count": 33,
     "metadata": {},
     "output_type": "execute_result"
    }
   ],
   "source": [
    "train_df['공급유형'].describe() # 총 10개의 유형이 있으며, 국민임대가 가장 빈도수 높게 나타남."
   ]
  },
  {
   "cell_type": "code",
   "execution_count": 34,
   "id": "a9789ec1",
   "metadata": {},
   "outputs": [
    {
     "data": {
      "text/plain": [
       "array(['국민임대', '공공임대(50년)', '영구임대', '임대상가', '공공임대(10년)', '공공임대(분납)',\n",
       "       '장기전세', '공공분양', '행복주택', '공공임대(5년)'], dtype=object)"
      ]
     },
     "execution_count": 34,
     "metadata": {},
     "output_type": "execute_result"
    }
   ],
   "source": [
    "train_df['공급유형'].unique() # 같은 공공임대끼리는 묶어도 될것같은데? \n"
   ]
  },
  {
   "cell_type": "code",
   "execution_count": 35,
   "id": "c82b51a0",
   "metadata": {},
   "outputs": [
    {
     "data": {
      "text/plain": [
       "<AxesSubplot:>"
      ]
     },
     "execution_count": 35,
     "metadata": {},
     "output_type": "execute_result"
    },
    {
     "data": {
      "image/png": "[encoded data removed]",
      "text/plain": [
       "<Figure size 864x288 with 1 Axes>"
      ]
     },
     "metadata": {
      "needs_background": "light"
     },
     "output_type": "display_data"
    }
   ],
   "source": [
    "plt.figure(figsize=(12,4))\n",
    "train_df['공급유형'].hist() # 편차가 심함. \n",
    "# 특징 찾아서 유형갯수 줄이는 작업도 해볼 필요 있을 듯! (물론 성능이 더 떨어지면 다시 원복)"
   ]
  },
  {
   "cell_type": "code",
   "execution_count": 36,
   "id": "ecf17372",
   "metadata": {},
   "outputs": [
    {
     "data": {
      "text/plain": [
       "공급유형\n",
       "장기전세         1.842430e+08\n",
       "공공임대(분납)     1.169595e+08\n",
       "공공임대(10년)    5.099743e+07\n",
       "행복주택         3.433645e+07\n",
       "공공임대(5년)     2.700000e+07\n",
       "국민임대         2.328041e+07\n",
       "공공임대(50년)    1.395458e+07\n",
       "영구임대         8.583733e+06\n",
       "공공분양         0.000000e+00\n",
       "임대상가         0.000000e+00\n",
       "Name: 임대보증금, dtype: float64"
      ]
     },
     "execution_count": 36,
     "metadata": {},
     "output_type": "execute_result"
    }
   ],
   "source": [
    "t_mean = train_df.groupby(['공급유형']).mean()['임대보증금'].sort_values(ascending=False) \n",
    "# 소득정보가 없으므로 공급유형별 보증금을 통해 각 유형을 예측 해보자\n",
    "t_mean"
   ]
  },
  {
   "cell_type": "code",
   "execution_count": 37,
   "id": "21c9f901",
   "metadata": {},
   "outputs": [
    {
     "data": {
      "text/plain": [
       "<BarContainer object of 10 artists>"
      ]
     },
     "execution_count": 37,
     "metadata": {},
     "output_type": "execute_result"
    },
    {
     "data": {
      "image/png": "[encoded data removed]",
      "text/plain": [
       "<Figure size 1152x288 with 1 Axes>"
      ]
     },
     "metadata": {
      "needs_background": "light"
     },
     "output_type": "display_data"
    }
   ],
   "source": [
    "plt.figure(figsize=(16,4))\n",
    "plt.bar(t_mean.index, t_mean.values) # 보증금은 장기전세가 매우 높은편. \n",
    "# 장기전세의 등록차량대수가 많을 가능성이 높음. 소득이 높다면 차를 보유활 확률 높아지기 때문.\n",
    "# 실제로 등록차량대수를 살펴보면 3위로 차량대수가 많음.\n",
    "\n",
    "# 공공분양과 임대상가는 보증금 평균이 0\n",
    "# 모든 데이터가 NaN 고, 결측치 채울때 0으로 설정됨\n"
   ]
  },
  {
   "cell_type": "markdown",
   "id": "bbde1d8c",
   "metadata": {},
   "source": [
    "### 피처간의 상관관계 분석\n",
    "- 회귀의 경우 다중공선성 문제가 생길수 있으므로, 체크할 필요 있음.\n",
    "- 모델링 결과 보면서 다시 돌아와서 확인할 부분."
   ]
  },
  {
   "cell_type": "code",
   "execution_count": 38,
   "id": "318482ee",
   "metadata": {},
   "outputs": [
    {
     "data": {
      "text/html": [
       "<div>\n",
       "<style scoped>\n",
       "    .dataframe tbody tr th:only-of-type {\n",
       "        vertical-align: middle;\n",
       "    }\n",
       "\n",
       "    .dataframe tbody tr th {\n",
       "        vertical-align: top;\n",
       "    }\n",
       "\n",
       "    .dataframe thead th {\n",
       "        text-align: right;\n",
       "    }\n",
       "</style>\n",
       "<table border=\"1\" class=\"dataframe\">\n",
       "  <thead>\n",
       "    <tr style=\"text-align: right;\">\n",
       "      <th></th>\n",
       "      <th>총세대수</th>\n",
       "      <th>전용면적</th>\n",
       "      <th>전용면적별세대수</th>\n",
       "      <th>공가수</th>\n",
       "      <th>임대보증금</th>\n",
       "      <th>임대료</th>\n",
       "      <th>도보 10분거리 내 지하철역 수(환승노선 수 반영)</th>\n",
       "      <th>도보 10분거리 내 버스정류장 수</th>\n",
       "      <th>단지내주차면수</th>\n",
       "      <th>등록차량수</th>\n",
       "    </tr>\n",
       "  </thead>\n",
       "  <tbody>\n",
       "    <tr>\n",
       "      <th>총세대수</th>\n",
       "      <td>1.000000</td>\n",
       "      <td>0.067498</td>\n",
       "      <td>0.168208</td>\n",
       "      <td>0.103241</td>\n",
       "      <td>-0.069686</td>\n",
       "      <td>-0.073734</td>\n",
       "      <td>0.131384</td>\n",
       "      <td>0.038483</td>\n",
       "      <td>0.598347</td>\n",
       "      <td>0.423656</td>\n",
       "    </tr>\n",
       "    <tr>\n",
       "      <th>전용면적</th>\n",
       "      <td>0.067498</td>\n",
       "      <td>1.000000</td>\n",
       "      <td>-0.071887</td>\n",
       "      <td>-0.116087</td>\n",
       "      <td>0.124295</td>\n",
       "      <td>0.192440</td>\n",
       "      <td>-0.000607</td>\n",
       "      <td>-0.007341</td>\n",
       "      <td>0.035756</td>\n",
       "      <td>0.081118</td>\n",
       "    </tr>\n",
       "    <tr>\n",
       "      <th>전용면적별세대수</th>\n",
       "      <td>0.168208</td>\n",
       "      <td>-0.071887</td>\n",
       "      <td>1.000000</td>\n",
       "      <td>0.151090</td>\n",
       "      <td>0.018584</td>\n",
       "      <td>0.076397</td>\n",
       "      <td>-0.024246</td>\n",
       "      <td>0.054413</td>\n",
       "      <td>0.231223</td>\n",
       "      <td>0.188906</td>\n",
       "    </tr>\n",
       "    <tr>\n",
       "      <th>공가수</th>\n",
       "      <td>0.103241</td>\n",
       "      <td>-0.116087</td>\n",
       "      <td>0.151090</td>\n",
       "      <td>1.000000</td>\n",
       "      <td>0.109310</td>\n",
       "      <td>-0.062348</td>\n",
       "      <td>-0.110199</td>\n",
       "      <td>0.050872</td>\n",
       "      <td>0.292526</td>\n",
       "      <td>0.095454</td>\n",
       "    </tr>\n",
       "    <tr>\n",
       "      <th>임대보증금</th>\n",
       "      <td>-0.069686</td>\n",
       "      <td>0.124295</td>\n",
       "      <td>0.018584</td>\n",
       "      <td>0.109310</td>\n",
       "      <td>1.000000</td>\n",
       "      <td>0.543188</td>\n",
       "      <td>-0.023645</td>\n",
       "      <td>0.101417</td>\n",
       "      <td>0.335281</td>\n",
       "      <td>0.378680</td>\n",
       "    </tr>\n",
       "    <tr>\n",
       "      <th>임대료</th>\n",
       "      <td>-0.073734</td>\n",
       "      <td>0.192440</td>\n",
       "      <td>0.076397</td>\n",
       "      <td>-0.062348</td>\n",
       "      <td>0.543188</td>\n",
       "      <td>1.000000</td>\n",
       "      <td>0.005629</td>\n",
       "      <td>0.042913</td>\n",
       "      <td>0.339759</td>\n",
       "      <td>0.461294</td>\n",
       "    </tr>\n",
       "    <tr>\n",
       "      <th>도보 10분거리 내 지하철역 수(환승노선 수 반영)</th>\n",
       "      <td>0.131384</td>\n",
       "      <td>-0.000607</td>\n",
       "      <td>-0.024246</td>\n",
       "      <td>-0.110199</td>\n",
       "      <td>-0.023645</td>\n",
       "      <td>0.005629</td>\n",
       "      <td>1.000000</td>\n",
       "      <td>0.106098</td>\n",
       "      <td>-0.028426</td>\n",
       "      <td>-0.063716</td>\n",
       "    </tr>\n",
       "    <tr>\n",
       "      <th>도보 10분거리 내 버스정류장 수</th>\n",
       "      <td>0.038483</td>\n",
       "      <td>-0.007341</td>\n",
       "      <td>0.054413</td>\n",
       "      <td>0.050872</td>\n",
       "      <td>0.101417</td>\n",
       "      <td>0.042913</td>\n",
       "      <td>0.106098</td>\n",
       "      <td>1.000000</td>\n",
       "      <td>0.093102</td>\n",
       "      <td>0.117849</td>\n",
       "    </tr>\n",
       "    <tr>\n",
       "      <th>단지내주차면수</th>\n",
       "      <td>0.598347</td>\n",
       "      <td>0.035756</td>\n",
       "      <td>0.231223</td>\n",
       "      <td>0.292526</td>\n",
       "      <td>0.335281</td>\n",
       "      <td>0.339759</td>\n",
       "      <td>-0.028426</td>\n",
       "      <td>0.093102</td>\n",
       "      <td>1.000000</td>\n",
       "      <td>0.851280</td>\n",
       "    </tr>\n",
       "    <tr>\n",
       "      <th>등록차량수</th>\n",
       "      <td>0.423656</td>\n",
       "      <td>0.081118</td>\n",
       "      <td>0.188906</td>\n",
       "      <td>0.095454</td>\n",
       "      <td>0.378680</td>\n",
       "      <td>0.461294</td>\n",
       "      <td>-0.063716</td>\n",
       "      <td>0.117849</td>\n",
       "      <td>0.851280</td>\n",
       "      <td>1.000000</td>\n",
       "    </tr>\n",
       "  </tbody>\n",
       "</table>\n",
       "</div>"
      ],
      "text/plain": [
       "                                  총세대수      전용면적  전용면적별세대수       공가수  \\\n",
       "총세대수                          1.000000  0.067498  0.168208  0.103241   \n",
       "전용면적                          0.067498  1.000000 -0.071887 -0.116087   \n",
       "전용면적별세대수                      0.168208 -0.071887  1.000000  0.151090   \n",
       "공가수                           0.103241 -0.116087  0.151090  1.000000   \n",
       "임대보증금                        -0.069686  0.124295  0.018584  0.109310   \n",
       "임대료                          -0.073734  0.192440  0.076397 -0.062348   \n",
       "도보 10분거리 내 지하철역 수(환승노선 수 반영)  0.131384 -0.000607 -0.024246 -0.110199   \n",
       "도보 10분거리 내 버스정류장 수            0.038483 -0.007341  0.054413  0.050872   \n",
       "단지내주차면수                       0.598347  0.035756  0.231223  0.292526   \n",
       "등록차량수                         0.423656  0.081118  0.188906  0.095454   \n",
       "\n",
       "                                 임대보증금       임대료  \\\n",
       "총세대수                         -0.069686 -0.073734   \n",
       "전용면적                          0.124295  0.192440   \n",
       "전용면적별세대수                      0.018584  0.076397   \n",
       "공가수                           0.109310 -0.062348   \n",
       "임대보증금                         1.000000  0.543188   \n",
       "임대료                           0.543188  1.000000   \n",
       "도보 10분거리 내 지하철역 수(환승노선 수 반영) -0.023645  0.005629   \n",
       "도보 10분거리 내 버스정류장 수            0.101417  0.042913   \n",
       "단지내주차면수                       0.335281  0.339759   \n",
       "등록차량수                         0.378680  0.461294   \n",
       "\n",
       "                              도보 10분거리 내 지하철역 수(환승노선 수 반영)  \\\n",
       "총세대수                                              0.131384   \n",
       "전용면적                                             -0.000607   \n",
       "전용면적별세대수                                         -0.024246   \n",
       "공가수                                              -0.110199   \n",
       "임대보증금                                            -0.023645   \n",
       "임대료                                               0.005629   \n",
       "도보 10분거리 내 지하철역 수(환승노선 수 반영)                      1.000000   \n",
       "도보 10분거리 내 버스정류장 수                                0.106098   \n",
       "단지내주차면수                                          -0.028426   \n",
       "등록차량수                                            -0.063716   \n",
       "\n",
       "                              도보 10분거리 내 버스정류장 수   단지내주차면수     등록차량수  \n",
       "총세대수                                    0.038483  0.598347  0.423656  \n",
       "전용면적                                   -0.007341  0.035756  0.081118  \n",
       "전용면적별세대수                                0.054413  0.231223  0.188906  \n",
       "공가수                                     0.050872  0.292526  0.095454  \n",
       "임대보증금                                   0.101417  0.335281  0.378680  \n",
       "임대료                                     0.042913  0.339759  0.461294  \n",
       "도보 10분거리 내 지하철역 수(환승노선 수 반영)            0.106098 -0.028426 -0.063716  \n",
       "도보 10분거리 내 버스정류장 수                      1.000000  0.093102  0.117849  \n",
       "단지내주차면수                                 0.093102  1.000000  0.851280  \n",
       "등록차량수                                   0.117849  0.851280  1.000000  "
      ]
     },
     "execution_count": 38,
     "metadata": {},
     "output_type": "execute_result"
    }
   ],
   "source": [
    "train_df.corr() "
   ]
  },
  {
   "cell_type": "markdown",
   "id": "6b802175",
   "metadata": {},
   "source": [
    "### EDA 시각화 \n",
    "(1) 컬럼별로 target(등록차량수)이 어떻게 분포되어있는지\n",
    "- 전체 컬럼들 중에서 타겟과 관련있는 피처 확인 하기 위해"
   ]
  },
  {
   "cell_type": "code",
   "execution_count": 39,
   "id": "3a8a1f73",
   "metadata": {},
   "outputs": [
    {
     "data": {
      "text/plain": [
       "Index(['단지코드', '총세대수', '임대건물구분', '지역', '공급유형', '전용면적', '전용면적별세대수', '공가수',\n",
       "       '자격유형', '임대보증금', '임대료', '도보 10분거리 내 지하철역 수(환승노선 수 반영)',\n",
       "       '도보 10분거리 내 버스정류장 수', '단지내주차면수', '등록차량수'],\n",
       "      dtype='object')"
      ]
     },
     "execution_count": 39,
     "metadata": {},
     "output_type": "execute_result"
    }
   ],
   "source": [
    "train_df.columns"
   ]
  },
  {
   "cell_type": "code",
   "execution_count": null,
   "id": "0f78096f",
   "metadata": {},
   "outputs": [],
   "source": [
    "fig, axs = plt.subplots(figsize=(16,16), ncols=2, nrows=7)\n",
    "features = ['단지코드', '총세대수', '임대건물구분', '지역', '공급유형', '전용면적', '전용면적별세대수', '공가수',\n",
    "       '자격유형', '임대보증금', '임대료', '도보 10분거리 내 지하철역 수(환승노선 수 반영)',\n",
    "       '도보 10분거리 내 버스정류장 수', '단지내주차면수']\n",
    "for i, f in enumerate(features):\n",
    "    row = int(i/2)\n",
    "    col = i%2\n",
    "    sns.barplot(x=f, y='등록차량수', data=train_df, ax=axs[row][col])"
   ]
  },
  {
   "cell_type": "code",
   "execution_count": null,
   "id": "066f336e",
   "metadata": {},
   "outputs": [],
   "source": [
    "# 숫자형 자료나 단지코드등 피처내의 고유값이 너무 많은 것은 제외하고 다시 그려보자.\n",
    "\n",
    "fig, axs = plt.subplots(figsize=(12,30), ncols=1, nrows=6)\n",
    "features = [ '임대건물구분', '지역', '공급유형', '자격유형', '도보 10분거리 내 지하철역 수(환승노선 수 반영)',\n",
    "       '도보 10분거리 내 버스정류장 수']\n",
    "for i, f in enumerate(features):\n",
    "    row = i%6\n",
    "    sns.barplot(x=f, y='등록차량수', data=train_df, ax=axs[row])"
   ]
  },
  {
   "cell_type": "markdown",
   "id": "9f045332",
   "metadata": {},
   "source": [
    "- 임대건물구분은 아파트의 수 자체가 훨씬 많기 때문에, 등록차량대수도 훨씬 많게 나타남.\n",
    "- 지역별 등록 차량수는 세종시가 가장 높다.\n",
    "    - 신도시이고, 차량없이 출퇴근이 힘들어서 그런가?\n",
    "- 공급유형은 공공분양의 경우가 가장 높게 나타난다.\n",
    "- 자격유형 : H, I, G, E, N 등록 차량수 높은 편. C,D 의경우 등록 차량 많이 낮음\n",
    "    - 소득과 관련된 임대아파트는 유형은 아닌지 생각해볼 필요 있음. 자격유형 확인 필요.\n",
    "- 도보 10분내 지하철역이 3개의 노선이 있을 경우, 현저히 등록차량대수가 낮게 나타남!\n",
    "    - 지하철이 근처에 많을 수록, 자차 비중이 낮은 것으로 예측.\n",
    "- 버스정류장의 개수는 지하철만큼 두드러지게 특징을 나타내지는 않음."
   ]
  },
  {
   "cell_type": "markdown",
   "id": "5da4e627",
   "metadata": {},
   "source": [
    "(2) 타겟값의 분포\n",
    "- 정규분포 형태가 가장 좋음!\n",
    "- 왜곡된 경우에는 회귀 예측 성능이 저하됨\n",
    "-hist 이용하여 확인 필요"
   ]
  },
  {
   "cell_type": "code",
   "execution_count": null,
   "id": "0d6500e0",
   "metadata": {},
   "outputs": [],
   "source": [
    "train_df['등록차량수'].hist()"
   ]
  },
  {
   "cell_type": "markdown",
   "id": "e80cca89",
   "metadata": {},
   "source": [
    "- 등록차량수 값이 정규분포가 아님\n",
    "- 왜곡된 값을 정규분포로 바꾸기 위해 로그 변환 필요\n",
    "- log1p() 사용 : 변경된 타겟 값을 기반으로 학습하고, 예측한 값은 다시 expm1 함수 적용하여 원상복구 가능"
   ]
  },
  {
   "cell_type": "code",
   "execution_count": null,
   "id": "4b867d9e",
   "metadata": {},
   "outputs": [],
   "source": [
    "train_df['등록차량수'] = np.log1p(train_df['등록차량수'])\n",
    "train_df['등록차량수'].hist()\n",
    "# 로그변환후 왜곡이 조금 줄어 들었음.\n",
    "# 근데 이게 맞나 ? 오른쪽으로도 쏠린것 같은 것은 기분탓인가.\n",
    "# 확인 필요함."
   ]
  },
  {
   "cell_type": "code",
   "execution_count": null,
   "id": "c87f9314",
   "metadata": {},
   "outputs": [],
   "source": []
  },
  {
   "cell_type": "code",
   "execution_count": null,
   "id": "18f91ad3",
   "metadata": {},
   "outputs": [],
   "source": []
  },
  {
   "cell_type": "code",
   "execution_count": null,
   "id": "50e37f7e",
   "metadata": {},
   "outputs": [],
   "source": []
  },
  {
   "cell_type": "code",
   "execution_count": null,
   "id": "6e64ac45",
   "metadata": {},
   "outputs": [],
   "source": []
  },
  {
   "cell_type": "code",
   "execution_count": null,
   "id": "0d2271dc",
   "metadata": {},
   "outputs": [],
   "source": []
  },
  {
   "cell_type": "code",
   "execution_count": null,
   "id": "9dba98f1",
   "metadata": {},
   "outputs": [],
   "source": []
  },
  {
   "cell_type": "code",
   "execution_count": null,
   "id": "47d3f390",
   "metadata": {},
   "outputs": [],
   "source": []
  },
  {
   "cell_type": "code",
   "execution_count": null,
   "id": "a1d35b31",
   "metadata": {},
   "outputs": [],
   "source": []
  },
  {
   "cell_type": "code",
   "execution_count": null,
   "id": "10fe24b5",
   "metadata": {},
   "outputs": [],
   "source": []
  },
  {
   "cell_type": "code",
   "execution_count": null,
   "id": "c0a12c64",
   "metadata": {},
   "outputs": [],
   "source": []
  },
  {
   "cell_type": "code",
   "execution_count": null,
   "id": "055c40c0",
   "metadata": {},
   "outputs": [],
   "source": [
    "train_df[train_df['임대건물구분']=='상가']"
   ]
  },
  {
   "cell_type": "code",
   "execution_count": null,
   "id": "4a046d28",
   "metadata": {},
   "outputs": [],
   "source": [
    "train_df.describe().T"
   ]
  },
  {
   "cell_type": "code",
   "execution_count": null,
   "id": "be8ea0aa",
   "metadata": {},
   "outputs": [],
   "source": [
    "test_df.describe().T"
   ]
  },
  {
   "cell_type": "code",
   "execution_count": null,
   "id": "5a79189d",
   "metadata": {},
   "outputs": [],
   "source": [
    "train_df.info()"
   ]
  },
  {
   "cell_type": "code",
   "execution_count": null,
   "id": "080af417",
   "metadata": {},
   "outputs": [],
   "source": [
    "obj_cols = []\n",
    "for col in train_df.columns:\n",
    "    if train_df[col].dtypes == 'object':\n",
    "        obj_cols.append(col)"
   ]
  },
  {
   "cell_type": "code",
   "execution_count": null,
   "id": "060db3c6",
   "metadata": {},
   "outputs": [],
   "source": [
    "for col in obj_cols:\n",
    "    train_unique = set(train_df[col])\n",
    "    print(col , \" unique 개수: \", len(train_unique))\n",
    "    if len(train_unique) < 100:\n",
    "        print(col , \" : \" , train_unique)"
   ]
  },
  {
   "cell_type": "code",
   "execution_count": null,
   "id": "8c5b3a8b",
   "metadata": {},
   "outputs": [],
   "source": [
    "train_apart_df = train_df.loc[train_df['임대건물구분']=='아파트']\n",
    "train_apart_df.head(1)"
   ]
  },
  {
   "cell_type": "code",
   "execution_count": null,
   "id": "ca68e130",
   "metadata": {},
   "outputs": [],
   "source": [
    "train_apart_df.info()"
   ]
  },
  {
   "cell_type": "code",
   "execution_count": null,
   "id": "831a75db",
   "metadata": {},
   "outputs": [],
   "source": [
    "train_shop_df = train_df.loc[train_df['임대건물구분']=='상가']\n",
    "train_shop_df.head(1)"
   ]
  },
  {
   "cell_type": "code",
   "execution_count": null,
   "id": "c4ac4828",
   "metadata": {},
   "outputs": [],
   "source": [
    "train_shop_df.info()"
   ]
  },
  {
   "cell_type": "markdown",
   "id": "41e8597a",
   "metadata": {},
   "source": [
    "**상가는 임대보증금, 임대료가 전부 결측치**"
   ]
  },
  {
   "cell_type": "code",
   "execution_count": null,
   "id": "d690aac2",
   "metadata": {},
   "outputs": [],
   "source": [
    "train_danji_df = train_df.drop_duplicates(subset='단지코드')\n",
    "train_danji_df.head(1)"
   ]
  },
  {
   "cell_type": "code",
   "execution_count": null,
   "id": "d213caf6",
   "metadata": {},
   "outputs": [],
   "source": [
    "train_danji_df.info()"
   ]
  },
  {
   "cell_type": "code",
   "execution_count": null,
   "id": "1ae1f1a8",
   "metadata": {},
   "outputs": [],
   "source": [
    "plt.figure(figsize=(16,6))\n",
    "sns.heatmap(train_df.isnull().T, cbar=False)"
   ]
  },
  {
   "cell_type": "code",
   "execution_count": null,
   "id": "9f43655d",
   "metadata": {},
   "outputs": [],
   "source": [
    "train_df.isnull().sum()"
   ]
  },
  {
   "cell_type": "markdown",
   "id": "5b99f715",
   "metadata": {},
   "source": [
    "- 임대보증금, 임대료, 지하철역, 버스정류장에 결측치 존재"
   ]
  },
  {
   "cell_type": "code",
   "execution_count": null,
   "id": "7426c00c",
   "metadata": {},
   "outputs": [],
   "source": [
    "print('전체 단지 수: ', train_df['단지코드'].nunique())\n",
    "print('지하철 결측치 단지 수: ', train_df.loc[train_df['도보 10분거리 내 지하철역 수(환승노선 수 반영)'].isnull()]['단지코드'].nunique())\n",
    "print('지하철 결측치 단지: ', train_df.loc[train_df['도보 10분거리 내 지하철역 수(환승노선 수 반영)'].isnull()]['단지코드'].unique())\n",
    "print('지하철 결측치 단지 지역: ', train_df.loc[train_df['도보 10분거리 내 지하철역 수(환승노선 수 반영)'].isnull()]['지역'].unique())"
   ]
  },
  {
   "cell_type": "markdown",
   "id": "c9cdb2e2",
   "metadata": {},
   "source": [
    "### 임대건물 구분이 상가일 경우, 임대료가 모두 NaN 이였음.\n",
    "- 아파트의 경우에도 NaN인 경우가 있는지 확인."
   ]
  },
  {
   "cell_type": "code",
   "execution_count": null,
   "id": "e55a214d",
   "metadata": {},
   "outputs": [],
   "source": [
    "\n",
    "train_df.loc[(train_df['임대건물구분'] != '상가') & train_df['임대보증금'].isnull()]\n"
   ]
  }
 ],
 "metadata": {
  "kernelspec": {
   "display_name": "Python 3 (ipykernel)",
   "language": "python",
   "name": "python3"
  },
  "language_info": {
   "codemirror_mode": {
    "name": "ipython",
    "version": 3
   },
   "file_extension": ".py",
   "mimetype": "text/x-python",
   "name": "python",
   "nbconvert_exporter": "python",
   "pygments_lexer": "ipython3",
   "version": "3.9.12"
  }
 },
 "nbformat": 4,
 "nbformat_minor": 5
}
