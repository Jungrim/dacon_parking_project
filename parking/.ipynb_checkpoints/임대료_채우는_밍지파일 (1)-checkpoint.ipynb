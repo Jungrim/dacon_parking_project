{
 "cells": [
  {
   "cell_type": "code",
   "execution_count": 1,
   "id": "6f09089c",
   "metadata": {},
   "outputs": [],
   "source": [
    "import pandas as pd\n",
    "import numpy as np"
   ]
  },
  {
   "cell_type": "code",
   "execution_count": 2,
   "id": "0af844f9",
   "metadata": {},
   "outputs": [],
   "source": [
    "train = pd.read_csv('train_revised.csv')"
   ]
  },
  {
   "cell_type": "code",
   "execution_count": 3,
   "id": "2790c63d",
   "metadata": {},
   "outputs": [],
   "source": [
    "dict = {'강원도':10120, '경상남도':10160, '대전광역시':10640, '부산광역시':21600, '제주특별자치도':11320, '충청남도':10000}"
   ]
  },
  {
   "cell_type": "code",
   "execution_count": 4,
   "id": "a502f1dc",
   "metadata": {},
   "outputs": [
    {
     "data": {
      "text/plain": [
       "10160"
      ]
     },
     "execution_count": 4,
     "metadata": {},
     "output_type": "execute_result"
    }
   ],
   "source": [
    "region = pd.DataFrame(dict,index=dict.keys()).T\n",
    "region = region['강원도']\n",
    "region['경상남도']"
   ]
  },
  {
   "cell_type": "code",
   "execution_count": 5,
   "id": "3acf848c",
   "metadata": {
    "scrolled": true
   },
   "outputs": [],
   "source": [
    "# train[train['임대건물구분'] == '상가']"
   ]
  },
  {
   "cell_type": "code",
   "execution_count": 6,
   "id": "8d655bf9",
   "metadata": {
    "scrolled": true
   },
   "outputs": [
    {
     "data": {
      "text/html": [
       "<div>\n",
       "<style scoped>\n",
       "    .dataframe tbody tr th:only-of-type {\n",
       "        vertical-align: middle;\n",
       "    }\n",
       "\n",
       "    .dataframe tbody tr th {\n",
       "        vertical-align: top;\n",
       "    }\n",
       "\n",
       "    .dataframe thead th {\n",
       "        text-align: right;\n",
       "    }\n",
       "</style>\n",
       "<table border=\"1\" class=\"dataframe\">\n",
       "  <thead>\n",
       "    <tr style=\"text-align: right;\">\n",
       "      <th></th>\n",
       "      <th>Unnamed: 0.1</th>\n",
       "      <th>Unnamed: 0</th>\n",
       "      <th>단지코드</th>\n",
       "      <th>총세대수</th>\n",
       "      <th>임대건물구분</th>\n",
       "      <th>지역</th>\n",
       "      <th>공급유형</th>\n",
       "      <th>전용면적</th>\n",
       "      <th>전용면적별세대수</th>\n",
       "      <th>공가수</th>\n",
       "      <th>자격유형</th>\n",
       "      <th>임대보증금</th>\n",
       "      <th>임대료</th>\n",
       "      <th>도보 10분거리 내 지하철역 수(환승노선 수 반영)</th>\n",
       "      <th>도보 10분거리 내 버스정류장 수</th>\n",
       "      <th>단지내주차면수</th>\n",
       "      <th>등록차량수</th>\n",
       "    </tr>\n",
       "  </thead>\n",
       "  <tbody>\n",
       "    <tr>\n",
       "      <th>81</th>\n",
       "      <td>81</td>\n",
       "      <td>88</td>\n",
       "      <td>C1925</td>\n",
       "      <td>601</td>\n",
       "      <td>상가</td>\n",
       "      <td>강원도</td>\n",
       "      <td>임대상가</td>\n",
       "      <td>32.10</td>\n",
       "      <td>1</td>\n",
       "      <td>9.0</td>\n",
       "      <td>D</td>\n",
       "      <td>NaN</td>\n",
       "      <td>324852.0</td>\n",
       "      <td>0.0</td>\n",
       "      <td>4.0</td>\n",
       "      <td>117.0</td>\n",
       "      <td>75.0</td>\n",
       "    </tr>\n",
       "    <tr>\n",
       "      <th>82</th>\n",
       "      <td>82</td>\n",
       "      <td>91</td>\n",
       "      <td>C1925</td>\n",
       "      <td>601</td>\n",
       "      <td>상가</td>\n",
       "      <td>강원도</td>\n",
       "      <td>임대상가</td>\n",
       "      <td>72.16</td>\n",
       "      <td>1</td>\n",
       "      <td>9.0</td>\n",
       "      <td>D</td>\n",
       "      <td>NaN</td>\n",
       "      <td>730259.2</td>\n",
       "      <td>0.0</td>\n",
       "      <td>4.0</td>\n",
       "      <td>117.0</td>\n",
       "      <td>75.0</td>\n",
       "    </tr>\n",
       "    <tr>\n",
       "      <th>92</th>\n",
       "      <td>92</td>\n",
       "      <td>101</td>\n",
       "      <td>C1874</td>\n",
       "      <td>619</td>\n",
       "      <td>상가</td>\n",
       "      <td>충청남도</td>\n",
       "      <td>임대상가</td>\n",
       "      <td>12.62</td>\n",
       "      <td>1</td>\n",
       "      <td>2.0</td>\n",
       "      <td>D</td>\n",
       "      <td>NaN</td>\n",
       "      <td>126200.0</td>\n",
       "      <td>NaN</td>\n",
       "      <td>2.0</td>\n",
       "      <td>97.0</td>\n",
       "      <td>62.0</td>\n",
       "    </tr>\n",
       "    <tr>\n",
       "      <th>93</th>\n",
       "      <td>93</td>\n",
       "      <td>102</td>\n",
       "      <td>C1874</td>\n",
       "      <td>619</td>\n",
       "      <td>상가</td>\n",
       "      <td>충청남도</td>\n",
       "      <td>임대상가</td>\n",
       "      <td>17.40</td>\n",
       "      <td>1</td>\n",
       "      <td>2.0</td>\n",
       "      <td>D</td>\n",
       "      <td>NaN</td>\n",
       "      <td>174000.0</td>\n",
       "      <td>NaN</td>\n",
       "      <td>2.0</td>\n",
       "      <td>97.0</td>\n",
       "      <td>62.0</td>\n",
       "    </tr>\n",
       "    <tr>\n",
       "      <th>94</th>\n",
       "      <td>94</td>\n",
       "      <td>104</td>\n",
       "      <td>C1874</td>\n",
       "      <td>619</td>\n",
       "      <td>상가</td>\n",
       "      <td>충청남도</td>\n",
       "      <td>임대상가</td>\n",
       "      <td>22.89</td>\n",
       "      <td>1</td>\n",
       "      <td>2.0</td>\n",
       "      <td>D</td>\n",
       "      <td>NaN</td>\n",
       "      <td>228900.0</td>\n",
       "      <td>NaN</td>\n",
       "      <td>2.0</td>\n",
       "      <td>97.0</td>\n",
       "      <td>62.0</td>\n",
       "    </tr>\n",
       "  </tbody>\n",
       "</table>\n",
       "</div>"
      ],
      "text/plain": [
       "    Unnamed: 0.1  Unnamed: 0   단지코드  총세대수 임대건물구분    지역  공급유형   전용면적  전용면적별세대수  \\\n",
       "81            81          88  C1925   601     상가   강원도  임대상가  32.10         1   \n",
       "82            82          91  C1925   601     상가   강원도  임대상가  72.16         1   \n",
       "92            92         101  C1874   619     상가  충청남도  임대상가  12.62         1   \n",
       "93            93         102  C1874   619     상가  충청남도  임대상가  17.40         1   \n",
       "94            94         104  C1874   619     상가  충청남도  임대상가  22.89         1   \n",
       "\n",
       "    공가수 자격유형  임대보증금       임대료  도보 10분거리 내 지하철역 수(환승노선 수 반영)  \\\n",
       "81  9.0    D    NaN  324852.0                           0.0   \n",
       "82  9.0    D    NaN  730259.2                           0.0   \n",
       "92  2.0    D    NaN  126200.0                           NaN   \n",
       "93  2.0    D    NaN  174000.0                           NaN   \n",
       "94  2.0    D    NaN  228900.0                           NaN   \n",
       "\n",
       "    도보 10분거리 내 버스정류장 수  단지내주차면수  등록차량수  \n",
       "81                 4.0    117.0   75.0  \n",
       "82                 4.0    117.0   75.0  \n",
       "92                 2.0     97.0   62.0  \n",
       "93                 2.0     97.0   62.0  \n",
       "94                 2.0     97.0   62.0  "
      ]
     },
     "execution_count": 6,
     "metadata": {},
     "output_type": "execute_result"
    }
   ],
   "source": [
    "mapping_values = []\n",
    "for r in train[train['임대건물구분'] == '상가'].values:\n",
    "    mapping_values.append(r[7] * region[r[5]])\n",
    "\n",
    "train.loc[train['임대건물구분']=='상가','임대료'] = mapping_values\n",
    "\n",
    "train[train['임대건물구분'] == '상가'].head()"
   ]
  },
  {
   "cell_type": "code",
   "execution_count": 11,
   "id": "caf704f4",
   "metadata": {},
   "outputs": [
    {
     "name": "stdout",
     "output_type": "stream",
     "text": [
      "<class 'pandas.core.frame.DataFrame'>\n",
      "RangeIndex: 2625 entries, 0 to 2624\n",
      "Data columns (total 17 columns):\n",
      " #   Column                        Non-Null Count  Dtype  \n",
      "---  ------                        --------------  -----  \n",
      " 0   Unnamed: 0.1                  2625 non-null   int64  \n",
      " 1   Unnamed: 0                    2625 non-null   int64  \n",
      " 2   단지코드                          2625 non-null   object \n",
      " 3   총세대수                          2625 non-null   int64  \n",
      " 4   임대건물구분                        2625 non-null   object \n",
      " 5   지역                            2625 non-null   object \n",
      " 6   공급유형                          2625 non-null   object \n",
      " 7   전용면적                          2625 non-null   float64\n",
      " 8   전용면적별세대수                      2625 non-null   int64  \n",
      " 9   공가수                           2625 non-null   float64\n",
      " 10  자격유형                          2625 non-null   object \n",
      " 11  임대보증금                         2340 non-null   float64\n",
      " 12  임대료                           2625 non-null   float64\n",
      " 13  도보 10분거리 내 지하철역 수(환승노선 수 반영)  2477 non-null   float64\n",
      " 14  도보 10분거리 내 버스정류장 수            2621 non-null   float64\n",
      " 15  단지내주차면수                       2625 non-null   float64\n",
      " 16  등록차량수                         2625 non-null   float64\n",
      "dtypes: float64(8), int64(4), object(5)\n",
      "memory usage: 348.8+ KB\n"
     ]
    }
   ],
   "source": [
    "train.info()"
   ]
  },
  {
   "cell_type": "code",
   "execution_count": 12,
   "id": "37d66419",
   "metadata": {},
   "outputs": [],
   "source": [
    "cols = ['임대보증금','도보 10분거리 내 지하철역 수(환승노선 수 반영)','도보 10분거리 내 버스정류장 수']\n",
    "train[cols] = train[cols].fillna(0)"
   ]
  },
  {
   "cell_type": "code",
   "execution_count": 14,
   "id": "460b18ab",
   "metadata": {},
   "outputs": [
    {
     "data": {
      "text/plain": [
       "Unnamed: 0.1                    0\n",
       "Unnamed: 0                      0\n",
       "단지코드                            0\n",
       "총세대수                            0\n",
       "임대건물구분                          0\n",
       "지역                              0\n",
       "공급유형                            0\n",
       "전용면적                            0\n",
       "전용면적별세대수                        0\n",
       "공가수                             0\n",
       "자격유형                            0\n",
       "임대보증금                           0\n",
       "임대료                             0\n",
       "도보 10분거리 내 지하철역 수(환승노선 수 반영)    0\n",
       "도보 10분거리 내 버스정류장 수              0\n",
       "단지내주차면수                         0\n",
       "등록차량수                           0\n",
       "dtype: int64"
      ]
     },
     "execution_count": 14,
     "metadata": {},
     "output_type": "execute_result"
    }
   ],
   "source": [
    "train.isnull().sum() # 결측치 다채웠다!"
   ]
  },
  {
   "cell_type": "code",
   "execution_count": 15,
   "id": "41f91840",
   "metadata": {},
   "outputs": [],
   "source": [
    "error_data = ['C1925', 'C1312', 'C2013', 'C1424', 'C2520', 'C2319', 'C1850', 'C1068', 'C2644', 'C2156', 'C2453', 'C1910', 'C2139', 'C2508', 'C1695', 'C2556', 'C2362', 'C2568', 'C2245', 'C2549', 'C1584', 'C2298', 'C2225', 'C1218', 'C1970', 'C1732', 'C2433', 'C1894', 'C1156', 'C2142', 'C2186', 'C2411', 'C1812', 'C1030', 'C1749', 'C1349', 'C2043', 'C1229', 'C2363', 'C1414', 'C2174', 'C2404', 'C1683', 'C1038', 'C2456', 'C1266', 'C1267', 'C2189']"
   ]
  },
  {
   "cell_type": "code",
   "execution_count": 16,
   "id": "b8fb4a56",
   "metadata": {},
   "outputs": [],
   "source": [
    "for error in error_data :\n",
    "    train = train[train['단지코드'] != error]"
   ]
  },
  {
   "cell_type": "code",
   "execution_count": 17,
   "id": "a0541d67",
   "metadata": {},
   "outputs": [
    {
     "name": "stdout",
     "output_type": "stream",
     "text": [
      "<class 'pandas.core.frame.DataFrame'>\n",
      "Int64Index: 2461 entries, 0 to 2624\n",
      "Data columns (total 17 columns):\n",
      " #   Column                        Non-Null Count  Dtype  \n",
      "---  ------                        --------------  -----  \n",
      " 0   Unnamed: 0.1                  2461 non-null   int64  \n",
      " 1   Unnamed: 0                    2461 non-null   int64  \n",
      " 2   단지코드                          2461 non-null   object \n",
      " 3   총세대수                          2461 non-null   int64  \n",
      " 4   임대건물구분                        2461 non-null   object \n",
      " 5   지역                            2461 non-null   object \n",
      " 6   공급유형                          2461 non-null   object \n",
      " 7   전용면적                          2461 non-null   float64\n",
      " 8   전용면적별세대수                      2461 non-null   int64  \n",
      " 9   공가수                           2461 non-null   float64\n",
      " 10  자격유형                          2461 non-null   object \n",
      " 11  임대보증금                         2461 non-null   float64\n",
      " 12  임대료                           2461 non-null   float64\n",
      " 13  도보 10분거리 내 지하철역 수(환승노선 수 반영)  2461 non-null   float64\n",
      " 14  도보 10분거리 내 버스정류장 수            2461 non-null   float64\n",
      " 15  단지내주차면수                       2461 non-null   float64\n",
      " 16  등록차량수                         2461 non-null   float64\n",
      "dtypes: float64(8), int64(4), object(5)\n",
      "memory usage: 346.1+ KB\n"
     ]
    }
   ],
   "source": [
    "train.info()"
   ]
  },
  {
   "cell_type": "code",
   "execution_count": 18,
   "id": "b7edbc0f",
   "metadata": {},
   "outputs": [],
   "source": [
    "train.to_csv('train_final.csv')\n",
    "# 오류 단지코드 제거\n",
    "# 임대보증금/임대료 채우기\n",
    "# 버스정류장/지하철역은 결측치 전부 0으로 채움\n",
    "# 중복데이터 제거"
   ]
  },
  {
   "cell_type": "code",
   "execution_count": null,
   "id": "ad7328d0",
   "metadata": {},
   "outputs": [],
   "source": []
  }
 ],
 "metadata": {
  "kernelspec": {
   "display_name": "Python 3 (ipykernel)",
   "language": "python",
   "name": "python3"
  },
  "language_info": {
   "codemirror_mode": {
    "name": "ipython",
    "version": 3
   },
   "file_extension": ".py",
   "mimetype": "text/x-python",
   "name": "python",
   "nbconvert_exporter": "python",
   "pygments_lexer": "ipython3",
   "version": "3.9.5"
  }
 },
 "nbformat": 4,
 "nbformat_minor": 5
}
