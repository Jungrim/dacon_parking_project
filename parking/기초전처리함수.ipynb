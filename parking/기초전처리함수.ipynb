{
 "cells": [
  {
   "cell_type": "code",
   "execution_count": 32,
   "id": "992d6463",
   "metadata": {},
   "outputs": [],
   "source": [
    "import pandas as pd\n",
    "import numpy as np\n",
    "import matplotlib.pyplot as plt\n",
    "import seaborn as sns\n",
    "\n",
    "from matplotlib import font_manager, rc\n",
    "font_path = \"C:/Windows/Fonts/NGULIM.TTF\"\n",
    "font = font_manager.FontProp삿erties(fname=font_path).get_name()\n",
    "rc('font', family=font)\n",
    "\n",
    "import warnings\n",
    "warnings.filterwarnings(\"ignore\")"
   ]
  },
  {
   "cell_type": "code",
   "execution_count": 43,
   "id": "62f7fc6c",
   "metadata": {},
   "outputs": [],
   "source": [
    "train_df = pd.read_csv('train.csv')\n",
    "age_gender_df = pd.read_csv('age_gender_info.csv')\n",
    "test_df = pd.read_csv('test.csv')"
   ]
  },
  {
   "cell_type": "code",
   "execution_count": 44,
   "id": "b85f4fb7",
   "metadata": {},
   "outputs": [],
   "source": [
    "def data_preprocessing(train_df, test_df):\n",
    "    \n",
    "    # 오류 2번, 3번만 제거 : 1번은 감안하여 분석 하세요!\n",
    "    error_data = error_data = ['C2085', 'C1397', 'C2431', 'C1649', 'C1095', 'C2051', 'C1218', 'C1894', 'C2483', 'C1502', 'C1988']\n",
    "    \n",
    "    for error in error_data :\n",
    "        train_df = train_df[train_df['단지코드'] != error]\n",
    "    \n",
    "    train_df.loc[train_df['임대보증금'] == '-','임대보증금'] = np.nan\n",
    "    train_df.loc[train_df['임대료'] == '-','임대료'] = np.nan\n",
    "\n",
    "    train_df['임대보증금'] = train_df['임대보증금'].astype(float)\n",
    "    train_df['임대료'] = train_df['임대료'].astype(float)\n",
    "    \n",
    "    cols = ['임대보증금', '임대료','도보 10분거리 내 지하철역 수(환승노선 수 반영)','도보 10분거리 내 버스정류장 수']\n",
    "\n",
    "    train_df[cols] = train_df[cols].fillna(0)\n",
    "    test_df[cols] = test_df[cols].fillna(0)\n",
    "    \n",
    "    test_df[ (test_df['단지코드']=='C2411') & (test_df['자격유형'].isnull())] = 'A'\n",
    "    test_df[ (test_df['단지코드']=='C2253') & (test_df['자격유형'].isnull())] = 'C'\n",
    "    \n",
    "    train_df = train_df.drop_duplicates()\n",
    "    test_df = test_df.drop_duplicates()\n",
    "    \n",
    "    \n",
    "    return train_df, test_df\n",
    "    "
   ]
  },
  {
   "cell_type": "code",
   "execution_count": 45,
   "id": "4f5fece3",
   "metadata": {},
   "outputs": [],
   "source": [
    "train, test = data_preprocessing(train_df, test_df)"
   ]
  },
  {
   "cell_type": "code",
   "execution_count": 46,
   "id": "ef57f5e3",
   "metadata": {},
   "outputs": [
    {
     "data": {
      "text/plain": [
       "((2556, 15), (949, 14))"
      ]
     },
     "execution_count": 46,
     "metadata": {},
     "output_type": "execute_result"
    }
   ],
   "source": [
    "train.shape, test.shape "
   ]
  },
  {
   "cell_type": "markdown",
   "id": "0926c8eb",
   "metadata": {},
   "source": [
    "\n",
    "### 아래 3단계를 거치면서, 더 좋은 평가가 나오도록 전처리 및 하이퍼파라미터 조정 등 모델링을 진행해주세요 : ) \n",
    "1. 전처리\n",
    "2. 모델 구성 및 학습\n",
    "3. 평가\n",
    "\n",
    "**모든 과정은 평가가 낮더라도 기록해주세요!**\n"
   ]
  },
  {
   "cell_type": "code",
   "execution_count": null,
   "id": "251a2c2c",
   "metadata": {},
   "outputs": [],
   "source": []
  },
  {
   "cell_type": "code",
   "execution_count": null,
   "id": "3e89624a",
   "metadata": {},
   "outputs": [],
   "source": []
  },
  {
   "cell_type": "code",
   "execution_count": null,
   "id": "3be5a028",
   "metadata": {},
   "outputs": [],
   "source": []
  },
  {
   "cell_type": "code",
   "execution_count": null,
   "id": "09dbbdca",
   "metadata": {},
   "outputs": [],
   "source": []
  }
 ],
 "metadata": {
  "kernelspec": {
   "display_name": "Python 3 (ipykernel)",
   "language": "python",
   "name": "python3"
  },
  "language_info": {
   "codemirror_mode": {
    "name": "ipython",
    "version": 3
   },
   "file_extension": ".py",
   "mimetype": "text/x-python",
   "name": "python",
   "nbconvert_exporter": "python",
   "pygments_lexer": "ipython3",
   "version": "3.9.12"
  }
 },
 "nbformat": 4,
 "nbformat_minor": 5
}
